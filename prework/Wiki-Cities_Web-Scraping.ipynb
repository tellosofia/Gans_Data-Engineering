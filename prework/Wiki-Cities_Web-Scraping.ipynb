{
  "nbformat": 4,
  "nbformat_minor": 0,
  "metadata": {
    "colab": {
      "provenance": [],
      "authorship_tag": "ABX9TyNMLUszsuGK+Dd93cLSlR9/",
      "include_colab_link": true
    },
    "kernelspec": {
      "name": "python3",
      "display_name": "Python 3"
    },
    "language_info": {
      "name": "python"
    }
  },
  "cells": [
    {
      "cell_type": "markdown",
      "metadata": {
        "id": "view-in-github",
        "colab_type": "text"
      },
      "source": [
        "<a href=\"https://colab.research.google.com/github/tellosofia/Gans_Data-Engineering/blob/main/Wiki-Cities_Web-Scraping.ipynb\" target=\"_parent\"><img src=\"https://colab.research.google.com/assets/colab-badge.svg\" alt=\"Open In Colab\"/></a>"
      ]
    },
    {
      "cell_type": "code",
      "execution_count": null,
      "metadata": {
        "id": "EqouwmpU4r2r"
      },
      "outputs": [],
      "source": [
        "# 1. import libraries\n",
        "\n",
        "from bs4 import BeautifulSoup\n",
        "import requests\n",
        "import pandas as pd"
      ]
    },
    {
      "cell_type": "code",
      "execution_count": null,
      "metadata": {
        "id": "jCoafcfp4r2r"
      },
      "outputs": [],
      "source": [
        "# 2. find url and store it in a variable\n",
        "url = \"https://en.wikipedia.org/wiki/Berlin\""
      ]
    },
    {
      "cell_type": "code",
      "execution_count": null,
      "metadata": {
        "id": "WXa8oy2w4r2s",
        "colab": {
          "base_uri": "https://localhost:8080/"
        },
        "outputId": "33eaec83-5fbb-4d17-d5a9-17c16a13455d"
      },
      "outputs": [
        {
          "output_type": "execute_result",
          "data": {
            "text/plain": [
              "200"
            ]
          },
          "metadata": {},
          "execution_count": 3
        }
      ],
      "source": [
        "# after checking https://en.wikipedia.org/robots.txt - now, we know we can access with our code (robot) to the website safely.\n",
        "\n",
        "# 3. download html with a get request\n",
        "response = requests.get(url)\n",
        "response.status_code # 200 status code means OK!\n",
        "#super important for it to be 200, otherwise it could mean problems - if it doesn't work - go to the wbsite to see whats happening"
      ]
    },
    {
      "cell_type": "code",
      "execution_count": null,
      "metadata": {
        "jupyter": {
          "outputs_hidden": true
        },
        "id": "XQI6Vwmy4r2s"
      },
      "outputs": [],
      "source": [
        "# 4.1. parse html (create the 'soup') - .content to get 'inside of the response)\n",
        "soup = BeautifulSoup(response.content, \"html.parser\")"
      ]
    },
    {
      "cell_type": "code",
      "source": [
        "# s is a 'soup' object, we can navigate through it, .select is a method of the object that is used for navigating through the html\n",
        "for s in soup.select('table.infobox tbody tr td'):\n",
        "  if s.text == 'Germany': # we can check if the text is what we want\n",
        "    print(s.text)         # if it is, we can print it"
      ],
      "metadata": {
        "colab": {
          "base_uri": "https://localhost:8080/"
        },
        "id": "cwARpcykoDE7",
        "outputId": "3c6867c0-8ab5-44d1-da00-ae50a1176876"
      },
      "execution_count": null,
      "outputs": [
        {
          "output_type": "stream",
          "name": "stdout",
          "text": [
            "Germany\n"
          ]
        }
      ]
    },
    {
      "cell_type": "code",
      "source": [
        "for s in soup.select('table.infobox tbody tr th'):  # we used wikipedias html as guide to more or less know where to look\n",
        "  print(s)                                          # now we're exploring s"
      ],
      "metadata": {
        "colab": {
          "base_uri": "https://localhost:8080/"
        },
        "id": "CaJ9eRJst5V3",
        "outputId": "37de73f1-5d53-4463-90ab-2ebca56ccf1f"
      },
      "execution_count": null,
      "outputs": [
        {
          "output_type": "stream",
          "name": "stdout",
          "text": [
            "<th class=\"infobox-above\" colspan=\"2\"><div class=\"fn org\">Berlin</div></th>\n",
            "<th class=\"infobox-label\" scope=\"row\">Country</th>\n",
            "<th class=\"infobox-label\" scope=\"row\"><a href=\"/wiki/States_of_Germany\" title=\"States of Germany\">State</a></th>\n",
            "<th class=\"infobox-header\" colspan=\"2\">Government<div class=\"ib-settlement-fn\"></div></th>\n",
            "<th class=\"infobox-label\" scope=\"row\"> • Body</th>\n",
            "<th class=\"infobox-label\" scope=\"row\"> • <a href=\"/wiki/Governing_Mayor_of_Berlin\" title=\"Governing Mayor of Berlin\">Governing Mayor</a></th>\n",
            "<th class=\"infobox-label\" scope=\"row\"> • <a class=\"mw-redirect\" href=\"/wiki/Bundesrat_of_Germany\" title=\"Bundesrat of Germany\">Bundesrat votes</a></th>\n",
            "<th class=\"infobox-label\" scope=\"row\"> • <a href=\"/wiki/Bundestag\" title=\"Bundestag\">Bundestag seats</a></th>\n",
            "<th class=\"infobox-header\" colspan=\"2\">Area<div class=\"ib-settlement-fn\"><sup class=\"reference\" id=\"cite_ref-statoffice_1-0\"><a href=\"#cite_note-statoffice-1\">[1]</a></sup></div></th>\n",
            "<th class=\"infobox-label\" scope=\"row\"> • City/State</th>\n",
            "<th class=\"infobox-label\" scope=\"row\"> • Urban<div class=\"ib-settlement-fn\"></div></th>\n",
            "<th class=\"infobox-label\" scope=\"row\"> • Metro<div class=\"ib-settlement-fn\"></div></th>\n",
            "<th class=\"infobox-label\" scope=\"row\">Elevation<div class=\"ib-settlement-fn\"></div></th>\n",
            "<th class=\"infobox-header\" colspan=\"2\">Population<div class=\"ib-settlement-fn\"><span class=\"nowrap\"> </span>(2021)<sup class=\"reference\" id=\"cite_ref-pop-detail_2-0\"><a href=\"#cite_note-pop-detail-2\">[2]</a></sup></div></th>\n",
            "<th class=\"infobox-label\" scope=\"row\"> • City/State</th>\n",
            "<th class=\"infobox-label\" scope=\"row\"> • Density</th>\n",
            "<th class=\"infobox-label\" scope=\"row\"> • <a href=\"/wiki/Urban_area\" title=\"Urban area\">Urban</a><div class=\"ib-settlement-fn\"><sup class=\"reference\" id=\"cite_ref-citypopulation_urban_3-0\"><a href=\"#cite_note-citypopulation_urban-3\">[3]</a></sup></div></th>\n",
            "<th class=\"infobox-label\" scope=\"row\"> • Urban density</th>\n",
            "<th class=\"infobox-label\" scope=\"row\"> • <a href=\"/wiki/Metropolitan_area\" title=\"Metropolitan area\">Metro</a><div class=\"ib-settlement-fn\"><sup class=\"reference\" id=\"cite_ref-4\"><a href=\"#cite_note-4\">[4]</a></sup></div></th>\n",
            "<th class=\"infobox-label\" scope=\"row\"> • Metro density</th>\n",
            "<th class=\"infobox-label\" scope=\"row\"><a href=\"/wiki/Demonym\" title=\"Demonym\">Demonyms</a></th>\n",
            "<th class=\"infobox-label\" scope=\"row\"><a href=\"/wiki/Time_zone\" title=\"Time zone\">Time zone</a></th>\n",
            "<th class=\"infobox-label\" scope=\"row\"><span class=\"nowrap\"> • Summer (<a href=\"/wiki/Daylight_saving_time\" title=\"Daylight saving time\">DST</a>)</span></th>\n",
            "<th class=\"infobox-label\" scope=\"row\"><a href=\"/wiki/Telephone_numbering_plan\" title=\"Telephone numbering plan\">Area codes</a></th>\n",
            "<th class=\"infobox-label\" scope=\"row\"><a href=\"/wiki/Geocode\" title=\"Geocode\">Geocode</a></th>\n",
            "<th class=\"infobox-label\" scope=\"row\"><a href=\"/wiki/ISO_3166\" title=\"ISO 3166\">ISO 3166 code</a></th>\n",
            "<th class=\"infobox-label\" scope=\"row\"><a href=\"/wiki/Vehicle_registration_plate\" title=\"Vehicle registration plate\">Vehicle registration</a></th>\n",
            "<th class=\"infobox-label\" scope=\"row\"><a href=\"/wiki/Gross_regional_product\" title=\"Gross regional product\">GRP (nominal)</a></th>\n",
            "<th class=\"infobox-label\" scope=\"row\">GRP per capita</th>\n",
            "<th class=\"infobox-label\" scope=\"row\"><a class=\"mw-redirect\" href=\"/wiki/GeoTLD\" title=\"GeoTLD\">GeoTLD</a></th>\n",
            "<th class=\"infobox-label\" scope=\"row\"><a href=\"/wiki/Human_Development_Index\" title=\"Human Development Index\">HDI</a> (2019)</th>\n",
            "<th class=\"infobox-label\" scope=\"row\">Website</th>\n",
            "<th>Country</th>\n",
            "<th>Population\n",
            "</th>\n"
          ]
        }
      ]
    },
    {
      "cell_type": "code",
      "source": [
        "for s in soup.select('table.infobox tbody tr td'): # we can also print the text from \"s\", instead of the html code\n",
        "  print(s.text)"
      ],
      "metadata": {
        "colab": {
          "base_uri": "https://localhost:8080/"
        },
        "id": "M-lBKH3dquPf",
        "outputId": "187c0906-5a60-4b67-eee2-002e04631176"
      },
      "execution_count": null,
      "outputs": [
        {
          "output_type": "stream",
          "name": "stdout",
          "text": [
            "Capital city, state and municipality\n",
            "Spree river, Museum Island and Berlin TV Tower in MitteVictory ColumnCharlottenburg PalaceRotes RathausBerlin PalaceBrandenburg GateReichstagGründerzeit architectureBerlin CathedralPotsdam Square\n",
            "\n",
            "\n",
            "FlagCoat of arms\n",
            "Show BerlinShow Europe\n",
            "Coordinates: 52°31′12″N 13°24′18″E﻿ / ﻿52.52000°N 13.40500°E﻿ / 52.52000; 13.40500\n",
            "Germany\n",
            "Berlin\n",
            "Abgeordnetenhaus of Berlin\n",
            "Kai Wegner (CDU)\n",
            "4 (of 69)\n",
            "29 (of 736)\n",
            "891.3 km2 (344.1 sq mi)\n",
            "3,743 km2 (1,445 sq mi)\n",
            "30,546 km2 (11,794 sq mi)\n",
            "34 m (112 ft)\n",
            "3,850,809\n",
            "4,126/km2 (10,690/sq mi)\n",
            "4,890,363\n",
            "1,195/km2 (3,100/sq mi)\n",
            "6,144,600\n",
            "201/km2 (520/sq mi)\n",
            "Berliner(s) (English)Berliner (m), Berlinerin (f) (German)\n",
            "UTC+01:00 (CET)\n",
            "UTC+02:00 (CEST)\n",
            "030\n",
            "NUTS Region: DE3\n",
            "DE-BE\n",
            "B[note 1]\n",
            "€179.4 billion (2022)[5]\n",
            "€46,588 (2022)\n",
            ".berlin\n",
            "0.964[6]very high · 2nd of 16\n",
            "berlin.de\n",
            "Residents by Citizenship (31 June 2022)[105]\n",
            "\n",
            " Germany\n",
            "2,958,786\n",
            "\n",
            " Turkey\n",
            "99,421\n",
            "\n",
            " Poland\n",
            "53,664\n",
            "\n",
            " Ukraine\n",
            "49,280\n",
            "\n",
            " Syria\n",
            "44,324\n",
            "\n",
            " Italy\n",
            "32,362\n",
            "\n",
            " Bulgaria\n",
            "32,170\n",
            "\n",
            " Russian Federation\n",
            "30,590\n",
            "\n",
            " Romania\n",
            "27,128\n",
            "\n",
            " India\n",
            "23,771\n",
            "\n",
            " Vietnam\n",
            "22,858\n",
            "\n",
            " USA\n",
            "20,990\n",
            "\n",
            " Serbia\n",
            "20,567\n",
            "\n",
            " France\n",
            "19,241\n",
            "\n",
            " Afghanistan\n",
            "17,481\n",
            "\n"
          ]
        }
      ]
    },
    {
      "cell_type": "code",
      "source": [
        "for s in soup.select('table.infobox tbody tr th'): # now we're printing the th instead of the td ('table.infobox tbody tr th')\n",
        "  print(s.text)"
      ],
      "metadata": {
        "colab": {
          "base_uri": "https://localhost:8080/"
        },
        "id": "GpsMrEAtPZ17",
        "outputId": "5d2b429e-7111-4e7c-8cd2-adcc58658d44"
      },
      "execution_count": null,
      "outputs": [
        {
          "output_type": "stream",
          "name": "stdout",
          "text": [
            "Berlin\n",
            "Country\n",
            "State\n",
            "Government\n",
            " • Body\n",
            " • Governing Mayor\n",
            " • Bundesrat votes\n",
            " • Bundestag seats\n",
            "Area[1]\n",
            " • City/State\n",
            " • Urban\n",
            " • Metro\n",
            "Elevation\n",
            "Population (2021)[2]\n",
            " • City/State\n",
            " • Density\n",
            " • Urban[3]\n",
            " • Urban density\n",
            " • Metro[4]\n",
            " • Metro density\n",
            "Demonyms\n",
            "Time zone\n",
            " • Summer (DST)\n",
            "Area codes\n",
            "Geocode\n",
            "ISO 3166 code\n",
            "Vehicle registration\n",
            "GRP (nominal)\n",
            "GRP per capita\n",
            "GeoTLD\n",
            "HDI (2019)\n",
            "Website\n",
            "Country\n",
            "Population\n",
            "\n"
          ]
        }
      ]
    },
    {
      "cell_type": "code",
      "source": [
        "for s in soup.select('table.infobox tbody tr th'): # we keep navigating through th\n",
        "  if s.text == 'Country': # we can check if the text is what we want\n",
        "    print(s)"
      ],
      "metadata": {
        "colab": {
          "base_uri": "https://localhost:8080/"
        },
        "id": "HAWm2oWBP83M",
        "outputId": "f5a8ddce-40be-445d-f51b-22d5682c377f"
      },
      "execution_count": null,
      "outputs": [
        {
          "output_type": "stream",
          "name": "stdout",
          "text": [
            "<th class=\"infobox-label\" scope=\"row\">Country</th>\n",
            "<th>Country</th>\n"
          ]
        }
      ]
    },
    {
      "cell_type": "markdown",
      "source": [
        "But italy is contained in the box right next to country - a td element.\n",
        "tr would be the parent, tbody his parents, tr have siblings tr.... min 10 video"
      ],
      "metadata": {
        "id": "BoSlf__7QRRr"
      }
    },
    {
      "cell_type": "code",
      "source": [
        "for s in soup.select('table.infobox tbody tr th'): # we keep navigating through th\n",
        "  if s.text == 'Country': # we can check if the text is what we want\n",
        "    print(s.next_sibling.text) # we use next_sibling to go to the next sibling from the th / we can use get_text() as well"
      ],
      "metadata": {
        "colab": {
          "base_uri": "https://localhost:8080/"
        },
        "id": "KuNVgnG5QIGx",
        "outputId": "dfd0677f-76f0-4d6d-f277-d83a6cc3efa0"
      },
      "execution_count": null,
      "outputs": [
        {
          "output_type": "stream",
          "name": "stdout",
          "text": [
            "Germany\n",
            "\n",
            "\n"
          ]
        }
      ]
    },
    {
      "cell_type": "markdown",
      "source": [
        "For the coordinates - table - body within something tr then something td"
      ],
      "metadata": {
        "id": "Km1mskp_RFNC"
      }
    },
    {
      "cell_type": "code",
      "source": [
        "for s in soup.select('table.infobox tbody tr td'): # now we're exploring td\n",
        "  print(s) # to make it easier to navigate - but not quite yet what we want"
      ],
      "metadata": {
        "colab": {
          "base_uri": "https://localhost:8080/"
        },
        "id": "pu-fqLLEQWsl",
        "outputId": "3b9c8d02-7451-44cf-b1d4-5a75673788e5"
      },
      "execution_count": null,
      "outputs": [
        {
          "output_type": "stream",
          "name": "stdout",
          "text": [
            "<td class=\"infobox-subheader\" colspan=\"2\"><div class=\"category\"><a href=\"/wiki/Capital_city\" title=\"Capital city\">Capital city</a>, <a href=\"/wiki/States_of_Germany\" title=\"States of Germany\">state</a> and <a href=\"/wiki/Municipalities_of_Germany\" title=\"Municipalities of Germany\">municipality</a></div></td>\n",
            "<td class=\"infobox-full-data\" colspan=\"2\"><style data-mw-deduplicate=\"TemplateStyles:r1096954695/mw-parser-output/.tmulti\">.mw-parser-output .tmulti .multiimageinner{display:flex;flex-direction:column}.mw-parser-output .tmulti .trow{display:flex;flex-direction:row;clear:left;flex-wrap:wrap;width:100%;box-sizing:border-box}.mw-parser-output .tmulti .tsingle{margin:1px;float:left}.mw-parser-output .tmulti .theader{clear:both;font-weight:bold;text-align:center;align-self:center;background-color:transparent;width:100%}.mw-parser-output .tmulti .thumbcaption{background-color:transparent}.mw-parser-output .tmulti .text-align-left{text-align:left}.mw-parser-output .tmulti .text-align-right{text-align:right}.mw-parser-output .tmulti .text-align-center{text-align:center}@media all and (max-width:720px){.mw-parser-output .tmulti .thumbinner{width:100%!important;box-sizing:border-box;max-width:none!important;align-items:center}.mw-parser-output .tmulti .trow{justify-content:center}.mw-parser-output .tmulti .tsingle{float:none!important;max-width:100%!important;box-sizing:border-box;text-align:center}.mw-parser-output .tmulti .tsingle .thumbcaption{text-align:left}.mw-parser-output .tmulti .trow>.thumbcaption{text-align:center}}</style><div class=\"thumb tmulti tnone center\"><div class=\"thumbinner multiimageinner\" style=\"width:282px;max-width:282px;border:none\"><div class=\"trow\"><div class=\"tsingle\" style=\"width:280px;max-width:280px\"><div class=\"thumbimage\" style=\"height:162px;overflow:hidden\"><span typeof=\"mw:File\"><a class=\"mw-file-description\" href=\"/wiki/File:Museumsinsel_Berlin_Juli_2021_1_(cropped).jpg\"><img alt=\"Tiergarten and Mitte skyline\" class=\"mw-file-element\" data-file-height=\"3186\" data-file-width=\"5464\" decoding=\"async\" height=\"162\" src=\"//upload.wikimedia.org/wikipedia/commons/thumb/4/4b/Museumsinsel_Berlin_Juli_2021_1_%28cropped%29.jpg/278px-Museumsinsel_Berlin_Juli_2021_1_%28cropped%29.jpg\" srcset=\"//upload.wikimedia.org/wikipedia/commons/thumb/4/4b/Museumsinsel_Berlin_Juli_2021_1_%28cropped%29.jpg/417px-Museumsinsel_Berlin_Juli_2021_1_%28cropped%29.jpg 1.5x, //upload.wikimedia.org/wikipedia/commons/thumb/4/4b/Museumsinsel_Berlin_Juli_2021_1_%28cropped%29.jpg/556px-Museumsinsel_Berlin_Juli_2021_1_%28cropped%29.jpg 2x\" width=\"278\"/></a></span></div><div class=\"thumbcaption text-align-center\"><a href=\"/wiki/Spree_(river)\" title=\"Spree (river)\">Spree river</a>, <a href=\"/wiki/Museum_Island\" title=\"Museum Island\">Museum Island</a> and <a class=\"mw-redirect\" href=\"/wiki/Berlin_TV_Tower\" title=\"Berlin TV Tower\">Berlin TV Tower</a> in <a href=\"/wiki/Mitte_(locality)\" title=\"Mitte (locality)\">Mitte</a></div></div></div><div class=\"trow\"><div class=\"tsingle\" style=\"width:95px;max-width:95px\"><div class=\"thumbimage\" style=\"height:124px;overflow:hidden\"><span typeof=\"mw:File\"><a class=\"mw-file-description\" href=\"/wiki/File:Siegess%C3%A4ule_2.JPG\"><img alt=\"Victory Column\" class=\"mw-file-element\" data-file-height=\"2288\" data-file-width=\"1712\" decoding=\"async\" height=\"124\" src=\"//upload.wikimedia.org/wikipedia/commons/thumb/7/74/Siegess%C3%A4ule_2.JPG/93px-Siegess%C3%A4ule_2.JPG\" srcset=\"//upload.wikimedia.org/wikipedia/commons/thumb/7/74/Siegess%C3%A4ule_2.JPG/140px-Siegess%C3%A4ule_2.JPG 1.5x, //upload.wikimedia.org/wikipedia/commons/thumb/7/74/Siegess%C3%A4ule_2.JPG/186px-Siegess%C3%A4ule_2.JPG 2x\" width=\"93\"/></a></span></div><div class=\"thumbcaption text-align-center\"><a href=\"/wiki/Berlin_Victory_Column\" title=\"Berlin Victory Column\">Victory Column</a></div></div><div class=\"tsingle\" style=\"width:96px;max-width:96px\"><div class=\"thumbimage\" style=\"height:124px;overflow:hidden\"><span typeof=\"mw:File\"><a class=\"mw-file-description\" href=\"/wiki/File:Berlin_-_Schloss_Charlottenburg_Reiterstandbild_%26_Schlossturm.jpg\"><img alt=\"Charlottenburg Palace\" class=\"mw-file-element\" data-file-height=\"1014\" data-file-width=\"761\" decoding=\"async\" height=\"125\" src=\"//upload.wikimedia.org/wikipedia/commons/thumb/c/cf/Berlin_-_Schloss_Charlottenburg_Reiterstandbild_%26_Schlossturm.jpg/94px-Berlin_-_Schloss_Charlottenburg_Reiterstandbild_%26_Schlossturm.jpg\" srcset=\"//upload.wikimedia.org/wikipedia/commons/thumb/c/cf/Berlin_-_Schloss_Charlottenburg_Reiterstandbild_%26_Schlossturm.jpg/141px-Berlin_-_Schloss_Charlottenburg_Reiterstandbild_%26_Schlossturm.jpg 1.5x, //upload.wikimedia.org/wikipedia/commons/thumb/c/cf/Berlin_-_Schloss_Charlottenburg_Reiterstandbild_%26_Schlossturm.jpg/188px-Berlin_-_Schloss_Charlottenburg_Reiterstandbild_%26_Schlossturm.jpg 2x\" width=\"94\"/></a></span></div><div class=\"thumbcaption text-align-center\"><a class=\"mw-redirect\" href=\"/wiki/Charlottenburg_Palace\" title=\"Charlottenburg Palace\">Charlottenburg Palace</a></div></div><div class=\"tsingle\" style=\"width:85px;max-width:85px\"><div class=\"thumbimage\" style=\"height:124px;overflow:hidden\"><span typeof=\"mw:File\"><a class=\"mw-file-description\" href=\"/wiki/File:Ayuntamiento_Rojo,_Berl%C3%ADn,_Alemania,_2016-04-22,_DD_34-36_HDR.jpg\"><img alt=\"Rotes Rathaus\" class=\"mw-file-element\" data-file-height=\"8398\" data-file-width=\"5599\" decoding=\"async\" height=\"124\" src=\"//upload.wikimedia.org/wikipedia/commons/thumb/e/ed/Ayuntamiento_Rojo%2C_Berl%C3%ADn%2C_Alemania%2C_2016-04-22%2C_DD_34-36_HDR.jpg/83px-Ayuntamiento_Rojo%2C_Berl%C3%ADn%2C_Alemania%2C_2016-04-22%2C_DD_34-36_HDR.jpg\" srcset=\"//upload.wikimedia.org/wikipedia/commons/thumb/e/ed/Ayuntamiento_Rojo%2C_Berl%C3%ADn%2C_Alemania%2C_2016-04-22%2C_DD_34-36_HDR.jpg/125px-Ayuntamiento_Rojo%2C_Berl%C3%ADn%2C_Alemania%2C_2016-04-22%2C_DD_34-36_HDR.jpg 1.5x, //upload.wikimedia.org/wikipedia/commons/thumb/e/ed/Ayuntamiento_Rojo%2C_Berl%C3%ADn%2C_Alemania%2C_2016-04-22%2C_DD_34-36_HDR.jpg/166px-Ayuntamiento_Rojo%2C_Berl%C3%ADn%2C_Alemania%2C_2016-04-22%2C_DD_34-36_HDR.jpg 2x\" width=\"83\"/></a></span></div><div class=\"thumbcaption text-align-center\"><a href=\"/wiki/Rotes_Rathaus\" title=\"Rotes Rathaus\">Rotes Rathaus</a></div></div></div><div class=\"trow\"><div class=\"tsingle\" style=\"width:139px;max-width:139px\"><div class=\"thumbimage\" style=\"height:91px;overflow:hidden\"><span typeof=\"mw:File\"><a class=\"mw-file-description\" href=\"/wiki/File:Berliner-Schloss-Humboldtforum-msu-2023-0I9A8637-8637.jpg\"><img alt=\"Berlin Palace\" class=\"mw-file-element\" data-file-height=\"3537\" data-file-width=\"5306\" decoding=\"async\" height=\"91\" src=\"//upload.wikimedia.org/wikipedia/commons/thumb/f/f2/Berliner-Schloss-Humboldtforum-msu-2023-0I9A8637-8637.jpg/137px-Berliner-Schloss-Humboldtforum-msu-2023-0I9A8637-8637.jpg\" srcset=\"//upload.wikimedia.org/wikipedia/commons/thumb/f/f2/Berliner-Schloss-Humboldtforum-msu-2023-0I9A8637-8637.jpg/206px-Berliner-Schloss-Humboldtforum-msu-2023-0I9A8637-8637.jpg 1.5x, //upload.wikimedia.org/wikipedia/commons/thumb/f/f2/Berliner-Schloss-Humboldtforum-msu-2023-0I9A8637-8637.jpg/274px-Berliner-Schloss-Humboldtforum-msu-2023-0I9A8637-8637.jpg 2x\" width=\"137\"/></a></span></div><div class=\"thumbcaption text-align-center\"><a href=\"/wiki/Berlin_Palace\" title=\"Berlin Palace\">Berlin Palace</a></div></div><div class=\"tsingle\" style=\"width:139px;max-width:139px\"><div class=\"thumbimage\" style=\"height:91px;overflow:hidden\"><span typeof=\"mw:File\"><a class=\"mw-file-description\" href=\"/wiki/File:Brandenburger_Tor_abends.jpg\"><img alt=\"Brandenburg Gate\" class=\"mw-file-element\" data-file-height=\"1280\" data-file-width=\"1920\" decoding=\"async\" height=\"91\" src=\"//upload.wikimedia.org/wikipedia/commons/thumb/a/a6/Brandenburger_Tor_abends.jpg/137px-Brandenburger_Tor_abends.jpg\" srcset=\"//upload.wikimedia.org/wikipedia/commons/thumb/a/a6/Brandenburger_Tor_abends.jpg/206px-Brandenburger_Tor_abends.jpg 1.5x, //upload.wikimedia.org/wikipedia/commons/thumb/a/a6/Brandenburger_Tor_abends.jpg/274px-Brandenburger_Tor_abends.jpg 2x\" width=\"137\"/></a></span></div><div class=\"thumbcaption text-align-center\"><a href=\"/wiki/Brandenburg_Gate\" title=\"Brandenburg Gate\">Brandenburg Gate</a></div></div></div><div class=\"trow\"><div class=\"tsingle\" style=\"width:159px;max-width:159px\"><div class=\"thumbimage\" style=\"height:92px;overflow:hidden\"><span typeof=\"mw:File\"><a class=\"mw-file-description\" href=\"/wiki/File:Reichstagsgeb%C3%A4ude_von_Westen.jpg\"><img alt=\"Reichstag\" class=\"mw-file-element\" data-file-height=\"5000\" data-file-width=\"8483\" decoding=\"async\" height=\"93\" src=\"//upload.wikimedia.org/wikipedia/commons/thumb/a/aa/Reichstagsgeb%C3%A4ude_von_Westen.jpg/157px-Reichstagsgeb%C3%A4ude_von_Westen.jpg\" srcset=\"//upload.wikimedia.org/wikipedia/commons/thumb/a/aa/Reichstagsgeb%C3%A4ude_von_Westen.jpg/236px-Reichstagsgeb%C3%A4ude_von_Westen.jpg 1.5x, //upload.wikimedia.org/wikipedia/commons/thumb/a/aa/Reichstagsgeb%C3%A4ude_von_Westen.jpg/314px-Reichstagsgeb%C3%A4ude_von_Westen.jpg 2x\" width=\"157\"/></a></span></div><div class=\"thumbcaption text-align-center\"><a href=\"/wiki/Reichstag_building\" title=\"Reichstag building\">Reichstag</a></div></div><div class=\"tsingle\" style=\"width:119px;max-width:119px\"><div class=\"thumbimage\" style=\"height:92px;overflow:hidden\"><span typeof=\"mw:File\"><a class=\"mw-file-description\" href=\"/wiki/File:Kreuzberger_fassade.jpg\"><img alt=\"Gründerzeit architecture\" class=\"mw-file-element\" data-file-height=\"2352\" data-file-width=\"2982\" decoding=\"async\" height=\"92\" src=\"//upload.wikimedia.org/wikipedia/commons/thumb/d/db/Kreuzberger_fassade.jpg/117px-Kreuzberger_fassade.jpg\" srcset=\"//upload.wikimedia.org/wikipedia/commons/thumb/d/db/Kreuzberger_fassade.jpg/176px-Kreuzberger_fassade.jpg 1.5x, //upload.wikimedia.org/wikipedia/commons/thumb/d/db/Kreuzberger_fassade.jpg/234px-Kreuzberger_fassade.jpg 2x\" width=\"117\"/></a></span></div><div class=\"thumbcaption text-align-center\"><a href=\"/wiki/Gr%C3%BCnderzeit\" title=\"Gründerzeit\">Gründerzeit</a> architecture</div></div></div><div class=\"trow\"><div class=\"tsingle\" style=\"width:136px;max-width:136px\"><div class=\"thumbimage\" style=\"height:93px;overflow:hidden\"><span typeof=\"mw:File\"><a class=\"mw-file-description\" href=\"/wiki/File:141227_Berliner_Dom.jpg\"><img alt=\"Berlin Cathedral\" class=\"mw-file-element\" data-file-height=\"2928\" data-file-width=\"4182\" decoding=\"async\" height=\"94\" src=\"//upload.wikimedia.org/wikipedia/commons/thumb/8/84/141227_Berliner_Dom.jpg/134px-141227_Berliner_Dom.jpg\" srcset=\"//upload.wikimedia.org/wikipedia/commons/thumb/8/84/141227_Berliner_Dom.jpg/201px-141227_Berliner_Dom.jpg 1.5x, //upload.wikimedia.org/wikipedia/commons/thumb/8/84/141227_Berliner_Dom.jpg/268px-141227_Berliner_Dom.jpg 2x\" width=\"134\"/></a></span></div><div class=\"thumbcaption text-align-center\"><a href=\"/wiki/Berlin_Cathedral\" title=\"Berlin Cathedral\">Berlin Cathedral</a></div></div><div class=\"tsingle\" style=\"width:142px;max-width:142px\"><div class=\"thumbimage\" style=\"height:93px;overflow:hidden\"><span typeof=\"mw:File\"><a class=\"mw-file-description\" href=\"/wiki/File:Hochh%C3%A4user_am_Potsdamer_Platz,_Berlin,_160606,_ako.jpg\"><img alt=\"Potsdam Square\" class=\"mw-file-element\" data-file-height=\"3534\" data-file-width=\"5300\" decoding=\"async\" height=\"93\" src=\"//upload.wikimedia.org/wikipedia/commons/thumb/b/b1/Hochh%C3%A4user_am_Potsdamer_Platz%2C_Berlin%2C_160606%2C_ako.jpg/140px-Hochh%C3%A4user_am_Potsdamer_Platz%2C_Berlin%2C_160606%2C_ako.jpg\" srcset=\"//upload.wikimedia.org/wikipedia/commons/thumb/b/b1/Hochh%C3%A4user_am_Potsdamer_Platz%2C_Berlin%2C_160606%2C_ako.jpg/210px-Hochh%C3%A4user_am_Potsdamer_Platz%2C_Berlin%2C_160606%2C_ako.jpg 1.5x, //upload.wikimedia.org/wikipedia/commons/thumb/b/b1/Hochh%C3%A4user_am_Potsdamer_Platz%2C_Berlin%2C_160606%2C_ako.jpg/280px-Hochh%C3%A4user_am_Potsdamer_Platz%2C_Berlin%2C_160606%2C_ako.jpg 2x\" width=\"140\"/></a></span></div><div class=\"thumbcaption text-align-center\"><a class=\"mw-redirect\" href=\"/wiki/Potsdam_Square\" title=\"Potsdam Square\">Potsdam Square</a></div></div></div></div></div></td>\n",
            "<td class=\"infobox-full-data maptable\" colspan=\"2\"><style data-mw-deduplicate=\"TemplateStyles:r1028600610\">.mw-parser-output .ib-settlement-cols{text-align:center;display:table;width:100%}.mw-parser-output .ib-settlement-cols-row{display:table-row}.mw-parser-output .ib-settlement-cols-cell{display:table-cell;vertical-align:middle}.mw-parser-output .ib-settlement-cols-cellt{display:table-cell;vertical-align:top}</style>\n",
            "<div class=\"ib-settlement-cols\">\n",
            "<div class=\"ib-settlement-cols-row\"><div class=\"ib-settlement-cols-cell\"><span class=\"mw-image-border\" typeof=\"mw:File\"><a class=\"mw-file-description\" href=\"/wiki/File:Flag_of_Berlin.svg\" title=\"Flag of Berlin\"><img alt=\"Flag of Berlin\" class=\"mw-file-element\" data-file-height=\"600\" data-file-width=\"1000\" decoding=\"async\" height=\"60\" src=\"//upload.wikimedia.org/wikipedia/commons/thumb/e/ec/Flag_of_Berlin.svg/100px-Flag_of_Berlin.svg.png\" srcset=\"//upload.wikimedia.org/wikipedia/commons/thumb/e/ec/Flag_of_Berlin.svg/150px-Flag_of_Berlin.svg.png 1.5x, //upload.wikimedia.org/wikipedia/commons/thumb/e/ec/Flag_of_Berlin.svg/200px-Flag_of_Berlin.svg.png 2x\" width=\"100\"/></a></span><div class=\"ib-settlement-caption-link\"><a href=\"/wiki/Flag_of_Berlin\" title=\"Flag of Berlin\">Flag</a></div></div><div class=\"ib-settlement-cols-cell\"><span typeof=\"mw:File\"><a class=\"mw-file-description\" href=\"/wiki/File:Coat_of_arms_of_Berlin.svg\" title=\"Coat of arms of Berlin\"><img alt=\"Coat of arms of Berlin\" class=\"mw-file-element\" data-file-height=\"739\" data-file-width=\"450\" decoding=\"async\" height=\"115\" src=\"//upload.wikimedia.org/wikipedia/commons/thumb/d/d9/Coat_of_arms_of_Berlin.svg/70px-Coat_of_arms_of_Berlin.svg.png\" srcset=\"//upload.wikimedia.org/wikipedia/commons/thumb/d/d9/Coat_of_arms_of_Berlin.svg/105px-Coat_of_arms_of_Berlin.svg.png 1.5x, //upload.wikimedia.org/wikipedia/commons/thumb/d/d9/Coat_of_arms_of_Berlin.svg/140px-Coat_of_arms_of_Berlin.svg.png 2x\" width=\"70\"/></a></span><div class=\"ib-settlement-caption-link\"><a href=\"/wiki/Coat_of_arms_of_Berlin\" title=\"Coat of arms of Berlin\">Coat of arms</a></div></div></div></div></td>\n",
            "<td class=\"infobox-full-data\" colspan=\"2\"><style data-mw-deduplicate=\"TemplateStyles:r964517619\">.mw-parser-output .mapframe-multi-container>label:first-of-type{clear:both}.mw-parser-output .mapframe-multi-container a.mw-kartographer-container.floatright,.mw-parser-output .mapframe-multi-container a.mw-kartographer-container.floatleft,.mw-parser-output .mapframe-multi-container div.mw-kartographer-container.tright,.mw-parser-output .mapframe-multi-container div.mw-kartographer-container.tleft{padding:0 0 0 0;margin:0 0 0 0}</style><div class=\"switcher-container mapframe-multi-container center\"><div><a class=\"mw-kartographer-map mw-kartographer-container center\" data-height=\"280\" data-lat=\"52.52\" data-lon=\"13.38\" data-mw-kartographer=\"mapframe\" data-overlays='[\"_24d479f07188f3fe709d3c0bc29e3271a1f6cd0d\"]' data-style=\"osm-intl\" data-width=\"280\" data-zoom=\"9\" href=\"/wiki/Special:Map/9/52.52/13.38/en\" style=\"width: 280px; height: 280px;\"><img alt=\"Map\" decoding=\"async\" height=\"280\" src=\"https://maps.wikimedia.org/img/osm-intl,9,52.52,13.38,280x280.png?lang=en&amp;domain=en.wikipedia.org&amp;title=Berlin&amp;revid=1169751762&amp;groups=_24d479f07188f3fe709d3c0bc29e3271a1f6cd0d\" srcset=\"https://maps.wikimedia.org/img/osm-intl,9,52.52,13.38,280x280@2x.png?lang=en&amp;domain=en.wikipedia.org&amp;title=Berlin&amp;revid=1169751762&amp;groups=_24d479f07188f3fe709d3c0bc29e3271a1f6cd0d 2x\" width=\"280\"/></a><span class=\"switcher-label\" style=\"display:none\">Show Berlin</span></div><div><a class=\"mw-kartographer-map mw-kartographer-container center\" data-height=\"280\" data-lat=\"48.690959\" data-lon=\"9.14062\" data-mw-kartographer=\"mapframe\" data-overlays='[\"_3c7f35971cb497a45160ea393dc45cec0e958bff\"]' data-style=\"osm-intl\" data-width=\"280\" data-zoom=\"3\" href=\"/wiki/Special:Map/3/48.690959/9.14062/en\" style=\"width: 280px; height: 280px;\"><img alt=\"Map\" decoding=\"async\" height=\"280\" src=\"https://maps.wikimedia.org/img/osm-intl,3,48.690959,9.14062,280x280.png?lang=en&amp;domain=en.wikipedia.org&amp;title=Berlin&amp;revid=1169751762&amp;groups=_3c7f35971cb497a45160ea393dc45cec0e958bff\" srcset=\"https://maps.wikimedia.org/img/osm-intl,3,48.690959,9.14062,280x280@2x.png?lang=en&amp;domain=en.wikipedia.org&amp;title=Berlin&amp;revid=1169751762&amp;groups=_3c7f35971cb497a45160ea393dc45cec0e958bff 2x\" width=\"280\"/></a><span class=\"switcher-label\" style=\"display:none\">Show Europe</span></div></div></td>\n",
            "<td class=\"infobox-full-data\" colspan=\"2\">Coordinates: <span class=\"geo-inline\"><style data-mw-deduplicate=\"TemplateStyles:r1156832818\">.mw-parser-output .geo-default,.mw-parser-output .geo-dms,.mw-parser-output .geo-dec{display:inline}.mw-parser-output .geo-nondefault,.mw-parser-output .geo-multi-punct,.mw-parser-output .geo-inline-hidden{display:none}.mw-parser-output .longitude,.mw-parser-output .latitude{white-space:nowrap}</style><span class=\"plainlinks nourlexpansion\"><a class=\"external text\" href=\"https://geohack.toolforge.org/geohack.php?pagename=Berlin&amp;params=52_31_12_N_13_24_18_E_type:city(3850809)_region:DE\"><span class=\"geo-default\"><span class=\"geo-dms\" title=\"Maps, aerial photos, and other data for this location\"><span class=\"latitude\">52°31′12″N</span> <span class=\"longitude\">13°24′18″E</span></span></span><span class=\"geo-multi-punct\">﻿ / ﻿</span><span class=\"geo-nondefault\"><span class=\"geo-dec\" title=\"Maps, aerial photos, and other data for this location\">52.52000°N 13.40500°E</span><span style=\"display:none\">﻿ / <span class=\"geo\">52.52000; 13.40500</span></span></span></a></span></span></td>\n",
            "<td class=\"infobox-data\"><a href=\"/wiki/Germany\" title=\"Germany\">Germany</a></td>\n",
            "<td class=\"infobox-data\"><a href=\"/wiki/Boroughs_and_neighborhoods_of_Berlin\" title=\"Boroughs and neighborhoods of Berlin\">Berlin</a></td>\n",
            "<td class=\"infobox-data agent\"><a href=\"/wiki/Abgeordnetenhaus_of_Berlin\" title=\"Abgeordnetenhaus of Berlin\">Abgeordnetenhaus of Berlin</a></td>\n",
            "<td class=\"infobox-data\"><a href=\"/wiki/Kai_Wegner\" title=\"Kai Wegner\">Kai Wegner</a> (<a href=\"/wiki/Christian_Democratic_Union_of_Germany\" title=\"Christian Democratic Union of Germany\">CDU</a>)</td>\n",
            "<td class=\"infobox-data\">4 (of 69)</td>\n",
            "<td class=\"infobox-data\"><a href=\"/wiki/Results_of_the_2021_German_federal_election#Berlin\" title=\"Results of the 2021 German federal election\">29 (of 736)</a></td>\n",
            "<td class=\"infobox-data\">891.3 km<sup>2</sup> (344.1 sq mi)</td>\n",
            "<td class=\"infobox-data\">3,743 km<sup>2</sup> (1,445 sq mi)</td>\n",
            "<td class=\"infobox-data\">30,546 km<sup>2</sup> (11,794 sq mi)</td>\n",
            "<td class=\"infobox-data\">34 m (112 ft)</td>\n",
            "<td class=\"infobox-data\">3,850,809</td>\n",
            "<td class=\"infobox-data\">4,126/km<sup>2</sup> (10,690/sq mi)</td>\n",
            "<td class=\"infobox-data\">4,890,363</td>\n",
            "<td class=\"infobox-data\">1,195/km<sup>2</sup> (3,100/sq mi)</td>\n",
            "<td class=\"infobox-data\">6,144,600</td>\n",
            "<td class=\"infobox-data\">201/km<sup>2</sup> (520/sq mi)</td>\n",
            "<td class=\"infobox-data\">Berliner(s) (English)<br/>Berliner (m), Berlinerin (f) (German)</td>\n",
            "<td class=\"infobox-data\"><a href=\"/wiki/UTC%2B01:00\" title=\"UTC+01:00\">UTC+01:00</a> (<a href=\"/wiki/Central_European_Time\" title=\"Central European Time\">CET</a>)</td>\n",
            "<td class=\"infobox-data\"><a href=\"/wiki/UTC%2B02:00\" title=\"UTC+02:00\">UTC+02:00</a> (<a href=\"/wiki/Central_European_Summer_Time\" title=\"Central European Summer Time\">CEST</a>)</td>\n",
            "<td class=\"infobox-data\"><a href=\"/wiki/List_of_dialling_codes_in_Germany#030_–_Berlin\" title=\"List of dialling codes in Germany\">030</a></td>\n",
            "<td class=\"infobox-data nickname\"><a href=\"/wiki/Nomenclature_of_Territorial_Units_for_Statistics\" title=\"Nomenclature of Territorial Units for Statistics\">NUTS Region</a>: DE3</td>\n",
            "<td class=\"infobox-data nickname\">DE-BE</td>\n",
            "<td class=\"infobox-data\">B<sup class=\"reference\" id=\"cite_ref-5\"><a href=\"#cite_note-5\">[note 1]</a></sup></td>\n",
            "<td class=\"infobox-data\">€179.4 billion (2022)<sup class=\"reference\" id=\"cite_ref-6\"><a href=\"#cite_note-6\">[5]</a></sup></td>\n",
            "<td class=\"infobox-data\">€46,588 (2022)</td>\n",
            "<td class=\"infobox-data\"><a href=\"/wiki/.berlin\" title=\".berlin\">.berlin</a></td>\n",
            "<td class=\"infobox-data\">0.964<sup class=\"reference\" id=\"cite_ref-GlobalDataLab_7-0\"><a href=\"#cite_note-GlobalDataLab-7\">[6]</a></sup><br/><span style=\"color:green\">very high</span> · <a href=\"/wiki/List_of_German_states_by_Human_Development_Index\" title=\"List of German states by Human Development Index\">2nd of 16</a></td>\n",
            "<td class=\"infobox-data\"><span class=\"url\"><a class=\"external text\" href=\"http://www.berlin.de/en/\" rel=\"nofollow\">berlin.de</a></span></td>\n",
            "<td colspan=\"2\" style=\"text-align:center;\"><b>Residents by Citizenship</b> <small>(31 June 2022)</small><sup class=\"reference\" id=\"cite_ref-pop-detail-2019_107-1\"><a href=\"#cite_note-pop-detail-2019-107\">[105]</a></sup>\n",
            "</td>\n",
            "<td><span class=\"flagicon\"><span class=\"mw-image-border\" typeof=\"mw:File\"><span><img alt=\"\" class=\"mw-file-element\" data-file-height=\"600\" data-file-width=\"1000\" decoding=\"async\" height=\"14\" src=\"//upload.wikimedia.org/wikipedia/en/thumb/b/ba/Flag_of_Germany.svg/23px-Flag_of_Germany.svg.png\" srcset=\"//upload.wikimedia.org/wikipedia/en/thumb/b/ba/Flag_of_Germany.svg/35px-Flag_of_Germany.svg.png 1.5x, //upload.wikimedia.org/wikipedia/en/thumb/b/ba/Flag_of_Germany.svg/46px-Flag_of_Germany.svg.png 2x\" width=\"23\"/></span></span> </span><a href=\"/wiki/Germany\" title=\"Germany\">Germany</a></td>\n",
            "<td>2,958,786\n",
            "</td>\n",
            "<td><span class=\"flagicon\"><span class=\"mw-image-border\" typeof=\"mw:File\"><span><img alt=\"\" class=\"mw-file-element\" data-file-height=\"800\" data-file-width=\"1200\" decoding=\"async\" height=\"15\" src=\"//upload.wikimedia.org/wikipedia/commons/thumb/b/b4/Flag_of_Turkey.svg/23px-Flag_of_Turkey.svg.png\" srcset=\"//upload.wikimedia.org/wikipedia/commons/thumb/b/b4/Flag_of_Turkey.svg/35px-Flag_of_Turkey.svg.png 1.5x, //upload.wikimedia.org/wikipedia/commons/thumb/b/b4/Flag_of_Turkey.svg/45px-Flag_of_Turkey.svg.png 2x\" width=\"23\"/></span></span> </span><a href=\"/wiki/Turkey\" title=\"Turkey\">Turkey</a></td>\n",
            "<td>99,421\n",
            "</td>\n",
            "<td><span class=\"flagicon\"><span class=\"mw-image-border\" typeof=\"mw:File\"><span><img alt=\"\" class=\"mw-file-element\" data-file-height=\"800\" data-file-width=\"1280\" decoding=\"async\" height=\"14\" src=\"//upload.wikimedia.org/wikipedia/en/thumb/1/12/Flag_of_Poland.svg/23px-Flag_of_Poland.svg.png\" srcset=\"//upload.wikimedia.org/wikipedia/en/thumb/1/12/Flag_of_Poland.svg/35px-Flag_of_Poland.svg.png 1.5x, //upload.wikimedia.org/wikipedia/en/thumb/1/12/Flag_of_Poland.svg/46px-Flag_of_Poland.svg.png 2x\" width=\"23\"/></span></span> </span><a href=\"/wiki/Poland\" title=\"Poland\">Poland</a></td>\n",
            "<td>53,664\n",
            "</td>\n",
            "<td><span class=\"flagicon\"><span class=\"mw-image-border\" typeof=\"mw:File\"><span><img alt=\"\" class=\"mw-file-element\" data-file-height=\"800\" data-file-width=\"1200\" decoding=\"async\" height=\"15\" src=\"//upload.wikimedia.org/wikipedia/commons/thumb/4/49/Flag_of_Ukraine.svg/23px-Flag_of_Ukraine.svg.png\" srcset=\"//upload.wikimedia.org/wikipedia/commons/thumb/4/49/Flag_of_Ukraine.svg/35px-Flag_of_Ukraine.svg.png 1.5x, //upload.wikimedia.org/wikipedia/commons/thumb/4/49/Flag_of_Ukraine.svg/45px-Flag_of_Ukraine.svg.png 2x\" width=\"23\"/></span></span> </span><a href=\"/wiki/Ukraine\" title=\"Ukraine\">Ukraine</a></td>\n",
            "<td>49,280\n",
            "</td>\n",
            "<td><span class=\"flagicon\"><span class=\"mw-image-border\" typeof=\"mw:File\"><span><img alt=\"\" class=\"mw-file-element\" data-file-height=\"600\" data-file-width=\"900\" decoding=\"async\" height=\"15\" src=\"//upload.wikimedia.org/wikipedia/commons/thumb/5/53/Flag_of_Syria.svg/23px-Flag_of_Syria.svg.png\" srcset=\"//upload.wikimedia.org/wikipedia/commons/thumb/5/53/Flag_of_Syria.svg/35px-Flag_of_Syria.svg.png 1.5x, //upload.wikimedia.org/wikipedia/commons/thumb/5/53/Flag_of_Syria.svg/45px-Flag_of_Syria.svg.png 2x\" width=\"23\"/></span></span> </span><a href=\"/wiki/Syria\" title=\"Syria\">Syria</a></td>\n",
            "<td>44,324\n",
            "</td>\n",
            "<td><span class=\"flagicon\"><span class=\"mw-image-border\" typeof=\"mw:File\"><span><img alt=\"\" class=\"mw-file-element\" data-file-height=\"1000\" data-file-width=\"1500\" decoding=\"async\" height=\"15\" src=\"//upload.wikimedia.org/wikipedia/en/thumb/0/03/Flag_of_Italy.svg/23px-Flag_of_Italy.svg.png\" srcset=\"//upload.wikimedia.org/wikipedia/en/thumb/0/03/Flag_of_Italy.svg/35px-Flag_of_Italy.svg.png 1.5x, //upload.wikimedia.org/wikipedia/en/thumb/0/03/Flag_of_Italy.svg/45px-Flag_of_Italy.svg.png 2x\" width=\"23\"/></span></span> </span><a href=\"/wiki/Italy\" title=\"Italy\">Italy</a></td>\n",
            "<td>32,362\n",
            "</td>\n",
            "<td><span class=\"flagicon\"><span class=\"mw-image-border\" typeof=\"mw:File\"><span><img alt=\"\" class=\"mw-file-element\" data-file-height=\"600\" data-file-width=\"1000\" decoding=\"async\" height=\"14\" src=\"//upload.wikimedia.org/wikipedia/commons/thumb/9/9a/Flag_of_Bulgaria.svg/23px-Flag_of_Bulgaria.svg.png\" srcset=\"//upload.wikimedia.org/wikipedia/commons/thumb/9/9a/Flag_of_Bulgaria.svg/35px-Flag_of_Bulgaria.svg.png 1.5x, //upload.wikimedia.org/wikipedia/commons/thumb/9/9a/Flag_of_Bulgaria.svg/46px-Flag_of_Bulgaria.svg.png 2x\" width=\"23\"/></span></span> </span><a href=\"/wiki/Bulgaria\" title=\"Bulgaria\">Bulgaria</a></td>\n",
            "<td>32,170\n",
            "</td>\n",
            "<td><span class=\"flagicon\"><span class=\"mw-image-border\" typeof=\"mw:File\"><span><img alt=\"\" class=\"mw-file-element\" data-file-height=\"600\" data-file-width=\"900\" decoding=\"async\" height=\"15\" src=\"//upload.wikimedia.org/wikipedia/en/thumb/f/f3/Flag_of_Russia.svg/23px-Flag_of_Russia.svg.png\" srcset=\"//upload.wikimedia.org/wikipedia/en/thumb/f/f3/Flag_of_Russia.svg/35px-Flag_of_Russia.svg.png 1.5x, //upload.wikimedia.org/wikipedia/en/thumb/f/f3/Flag_of_Russia.svg/45px-Flag_of_Russia.svg.png 2x\" width=\"23\"/></span></span> </span><a href=\"/wiki/Russia\" title=\"Russia\">Russian Federation</a></td>\n",
            "<td>30,590\n",
            "</td>\n",
            "<td><span class=\"flagicon\"><span class=\"mw-image-border\" typeof=\"mw:File\"><span><img alt=\"\" class=\"mw-file-element\" data-file-height=\"400\" data-file-width=\"600\" decoding=\"async\" height=\"15\" src=\"//upload.wikimedia.org/wikipedia/commons/thumb/7/73/Flag_of_Romania.svg/23px-Flag_of_Romania.svg.png\" srcset=\"//upload.wikimedia.org/wikipedia/commons/thumb/7/73/Flag_of_Romania.svg/35px-Flag_of_Romania.svg.png 1.5x, //upload.wikimedia.org/wikipedia/commons/thumb/7/73/Flag_of_Romania.svg/45px-Flag_of_Romania.svg.png 2x\" width=\"23\"/></span></span> </span><a href=\"/wiki/Romania\" title=\"Romania\">Romania</a></td>\n",
            "<td>27,128\n",
            "</td>\n",
            "<td><span class=\"flagicon\"><span class=\"mw-image-border\" typeof=\"mw:File\"><span><img alt=\"\" class=\"mw-file-element\" data-file-height=\"600\" data-file-width=\"900\" decoding=\"async\" height=\"15\" src=\"//upload.wikimedia.org/wikipedia/en/thumb/4/41/Flag_of_India.svg/23px-Flag_of_India.svg.png\" srcset=\"//upload.wikimedia.org/wikipedia/en/thumb/4/41/Flag_of_India.svg/35px-Flag_of_India.svg.png 1.5x, //upload.wikimedia.org/wikipedia/en/thumb/4/41/Flag_of_India.svg/45px-Flag_of_India.svg.png 2x\" width=\"23\"/></span></span> </span><a href=\"/wiki/India\" title=\"India\">India</a></td>\n",
            "<td>23,771\n",
            "</td>\n",
            "<td><span class=\"flagicon\"><span class=\"mw-image-border\" typeof=\"mw:File\"><span><img alt=\"\" class=\"mw-file-element\" data-file-height=\"600\" data-file-width=\"900\" decoding=\"async\" height=\"15\" src=\"//upload.wikimedia.org/wikipedia/commons/thumb/2/21/Flag_of_Vietnam.svg/23px-Flag_of_Vietnam.svg.png\" srcset=\"//upload.wikimedia.org/wikipedia/commons/thumb/2/21/Flag_of_Vietnam.svg/35px-Flag_of_Vietnam.svg.png 1.5x, //upload.wikimedia.org/wikipedia/commons/thumb/2/21/Flag_of_Vietnam.svg/45px-Flag_of_Vietnam.svg.png 2x\" width=\"23\"/></span></span> </span><a href=\"/wiki/Vietnam\" title=\"Vietnam\">Vietnam</a></td>\n",
            "<td>22,858\n",
            "</td>\n",
            "<td><span class=\"flagicon\"><span class=\"mw-image-border\" typeof=\"mw:File\"><span><img alt=\"\" class=\"mw-file-element\" data-file-height=\"650\" data-file-width=\"1235\" decoding=\"async\" height=\"12\" src=\"//upload.wikimedia.org/wikipedia/en/thumb/a/a4/Flag_of_the_United_States.svg/23px-Flag_of_the_United_States.svg.png\" srcset=\"//upload.wikimedia.org/wikipedia/en/thumb/a/a4/Flag_of_the_United_States.svg/35px-Flag_of_the_United_States.svg.png 1.5x, //upload.wikimedia.org/wikipedia/en/thumb/a/a4/Flag_of_the_United_States.svg/46px-Flag_of_the_United_States.svg.png 2x\" width=\"23\"/></span></span> </span><a href=\"/wiki/United_States\" title=\"United States\">USA</a></td>\n",
            "<td>20,990\n",
            "</td>\n",
            "<td><span class=\"flagicon\"><span class=\"mw-image-border\" typeof=\"mw:File\"><span><img alt=\"\" class=\"mw-file-element\" data-file-height=\"630\" data-file-width=\"945\" decoding=\"async\" height=\"15\" src=\"//upload.wikimedia.org/wikipedia/commons/thumb/f/ff/Flag_of_Serbia.svg/23px-Flag_of_Serbia.svg.png\" srcset=\"//upload.wikimedia.org/wikipedia/commons/thumb/f/ff/Flag_of_Serbia.svg/35px-Flag_of_Serbia.svg.png 1.5x, //upload.wikimedia.org/wikipedia/commons/thumb/f/ff/Flag_of_Serbia.svg/45px-Flag_of_Serbia.svg.png 2x\" width=\"23\"/></span></span> </span><a href=\"/wiki/Serbia\" title=\"Serbia\">Serbia</a></td>\n",
            "<td>20,567\n",
            "</td>\n",
            "<td><span class=\"flagicon\"><span class=\"mw-image-border\" typeof=\"mw:File\"><span><img alt=\"\" class=\"mw-file-element\" data-file-height=\"600\" data-file-width=\"900\" decoding=\"async\" height=\"15\" src=\"//upload.wikimedia.org/wikipedia/en/thumb/c/c3/Flag_of_France.svg/23px-Flag_of_France.svg.png\" srcset=\"//upload.wikimedia.org/wikipedia/en/thumb/c/c3/Flag_of_France.svg/35px-Flag_of_France.svg.png 1.5x, //upload.wikimedia.org/wikipedia/en/thumb/c/c3/Flag_of_France.svg/45px-Flag_of_France.svg.png 2x\" width=\"23\"/></span></span> </span><a href=\"/wiki/France\" title=\"France\">France</a></td>\n",
            "<td>19,241\n",
            "</td>\n",
            "<td><span class=\"flagicon\"><span class=\"mw-image-border\" typeof=\"mw:File\"><span><img alt=\"\" class=\"mw-file-element\" data-file-height=\"500\" data-file-width=\"1000\" decoding=\"async\" height=\"12\" src=\"//upload.wikimedia.org/wikipedia/commons/thumb/5/5c/Flag_of_the_Taliban.svg/23px-Flag_of_the_Taliban.svg.png\" srcset=\"//upload.wikimedia.org/wikipedia/commons/thumb/5/5c/Flag_of_the_Taliban.svg/35px-Flag_of_the_Taliban.svg.png 1.5x, //upload.wikimedia.org/wikipedia/commons/thumb/5/5c/Flag_of_the_Taliban.svg/46px-Flag_of_the_Taliban.svg.png 2x\" width=\"23\"/></span></span> </span><a href=\"/wiki/Afghanistan\" title=\"Afghanistan\">Afghanistan</a></td>\n",
            "<td>17,481\n",
            "</td>\n"
          ]
        }
      ]
    },
    {
      "cell_type": "code",
      "source": [
        "for s in soup.select('table.infobox tbody tr td'): # we print the td\n",
        "  print(s.text) # way better - and we can see coordinates now"
      ],
      "metadata": {
        "colab": {
          "base_uri": "https://localhost:8080/"
        },
        "id": "uCIelnIrRbVN",
        "outputId": "e2f5fcbf-25fc-4b43-fb1e-abcacb711b63"
      },
      "execution_count": null,
      "outputs": [
        {
          "output_type": "stream",
          "name": "stdout",
          "text": [
            "Capital city, state and municipality\n",
            "Spree river, Museum Island and Berlin TV Tower in MitteVictory ColumnCharlottenburg PalaceRotes RathausBerlin PalaceBrandenburg GateReichstagGründerzeit architectureBerlin CathedralPotsdam Square\n",
            "\n",
            "\n",
            "FlagCoat of arms\n",
            "Show BerlinShow Europe\n",
            "Coordinates: 52°31′12″N 13°24′18″E﻿ / ﻿52.52000°N 13.40500°E﻿ / 52.52000; 13.40500\n",
            "Germany\n",
            "Berlin\n",
            "Abgeordnetenhaus of Berlin\n",
            "Kai Wegner (CDU)\n",
            "4 (of 69)\n",
            "29 (of 736)\n",
            "891.3 km2 (344.1 sq mi)\n",
            "3,743 km2 (1,445 sq mi)\n",
            "30,546 km2 (11,794 sq mi)\n",
            "34 m (112 ft)\n",
            "3,850,809\n",
            "4,126/km2 (10,690/sq mi)\n",
            "4,890,363\n",
            "1,195/km2 (3,100/sq mi)\n",
            "6,144,600\n",
            "201/km2 (520/sq mi)\n",
            "Berliner(s) (English)Berliner (m), Berlinerin (f) (German)\n",
            "UTC+01:00 (CET)\n",
            "UTC+02:00 (CEST)\n",
            "030\n",
            "NUTS Region: DE3\n",
            "DE-BE\n",
            "B[note 1]\n",
            "€179.4 billion (2022)[5]\n",
            "€46,588 (2022)\n",
            ".berlin\n",
            "0.964[6]very high · 2nd of 16\n",
            "berlin.de\n",
            "Residents by Citizenship (31 June 2022)[105]\n",
            "\n",
            " Germany\n",
            "2,958,786\n",
            "\n",
            " Turkey\n",
            "99,421\n",
            "\n",
            " Poland\n",
            "53,664\n",
            "\n",
            " Ukraine\n",
            "49,280\n",
            "\n",
            " Syria\n",
            "44,324\n",
            "\n",
            " Italy\n",
            "32,362\n",
            "\n",
            " Bulgaria\n",
            "32,170\n",
            "\n",
            " Russian Federation\n",
            "30,590\n",
            "\n",
            " Romania\n",
            "27,128\n",
            "\n",
            " India\n",
            "23,771\n",
            "\n",
            " Vietnam\n",
            "22,858\n",
            "\n",
            " USA\n",
            "20,990\n",
            "\n",
            " Serbia\n",
            "20,567\n",
            "\n",
            " France\n",
            "19,241\n",
            "\n",
            " Afghanistan\n",
            "17,481\n",
            "\n"
          ]
        }
      ]
    },
    {
      "cell_type": "code",
      "source": [
        "for s in soup.select('table.infobox tbody tr td'): # we keep navigating through td\n",
        "  if s.text.startswith('Coordinates'): # startswith checks if the text starts with what we want\n",
        "    print(s.text) # the most useful ones are the ones in decimal format - otherwise we would have to convert them later"
      ],
      "metadata": {
        "colab": {
          "base_uri": "https://localhost:8080/"
        },
        "id": "SWQSh8gcRkPz",
        "outputId": "4261953a-d902-415d-d27b-931036711b78"
      },
      "execution_count": null,
      "outputs": [
        {
          "output_type": "stream",
          "name": "stdout",
          "text": [
            "Coordinates: 52°31′12″N 13°24′18″E﻿ / ﻿52.52000°N 13.40500°E﻿ / 52.52000; 13.40500\n"
          ]
        }
      ]
    },
    {
      "cell_type": "code",
      "source": [
        "for s in soup.select('table.infobox tbody tr td'):\n",
        "  if s.text.startswith('Coordinates'):\n",
        "   print(s.text.split('/')[-1].split(';'))           # to split by the '/' and keep only the last value there, and then to have them separate, so that it's easier to\n",
        "                                                     # put on a data frame later"
      ],
      "metadata": {
        "colab": {
          "base_uri": "https://localhost:8080/"
        },
        "id": "sJhKxAj5RwFR",
        "outputId": "281df6be-8c38-4021-dc92-f46d3676125f"
      },
      "execution_count": null,
      "outputs": [
        {
          "output_type": "stream",
          "name": "stdout",
          "text": [
            "[' 52.52000', ' 13.40500']\n"
          ]
        }
      ]
    },
    {
      "cell_type": "markdown",
      "source": [
        "For population"
      ],
      "metadata": {
        "id": "bHJfT0_pSSpk"
      }
    },
    {
      "cell_type": "markdown",
      "source": [
        "Tricky part: the population doesn't have the number right next to it, but next to comune,density, bla bla"
      ],
      "metadata": {
        "id": "lTucAzTJSfea"
      }
    },
    {
      "cell_type": "code",
      "source": [
        "for s in soup.select('table.infobox tbody tr th'): # we repeat the process for th to look for what we want - in this case population\n",
        "  print(s.text)"
      ],
      "metadata": {
        "colab": {
          "base_uri": "https://localhost:8080/"
        },
        "id": "5hoxj2w_SP4Z",
        "outputId": "6a209bd7-e060-4634-cc1d-86fff8ab3060"
      },
      "execution_count": null,
      "outputs": [
        {
          "output_type": "stream",
          "name": "stdout",
          "text": [
            "Berlin\n",
            "Country\n",
            "State\n",
            "Government\n",
            " • Body\n",
            " • Governing Mayor\n",
            " • Bundesrat votes\n",
            " • Bundestag seats\n",
            "Area[1]\n",
            " • City/State\n",
            " • Urban\n",
            " • Metro\n",
            "Elevation\n",
            "Population (2021)[2]\n",
            " • City/State\n",
            " • Density\n",
            " • Urban[3]\n",
            " • Urban density\n",
            " • Metro[4]\n",
            " • Metro density\n",
            "Demonyms\n",
            "Time zone\n",
            " • Summer (DST)\n",
            "Area codes\n",
            "Geocode\n",
            "ISO 3166 code\n",
            "Vehicle registration\n",
            "GRP (nominal)\n",
            "GRP per capita\n",
            "GeoTLD\n",
            "HDI (2019)\n",
            "Website\n",
            "Country\n",
            "Population\n",
            "\n"
          ]
        }
      ]
    },
    {
      "cell_type": "code",
      "source": [
        "for s in soup.select('table.infobox tbody tr th'):\n",
        "  if s.text.startswith('Population'): # we use startswith because we want to check if the text is what we want\n",
        "    print(s.text) # good idea to check through print statements to see that we're grabbing what we need"
      ],
      "metadata": {
        "colab": {
          "base_uri": "https://localhost:8080/"
        },
        "id": "ijtg1_OGSn_m",
        "outputId": "ffd26788-3425-4da3-fe38-0a39edb179f4"
      },
      "execution_count": null,
      "outputs": [
        {
          "output_type": "stream",
          "name": "stdout",
          "text": [
            "Population (2021)[2]\n",
            "Population\n",
            "\n"
          ]
        }
      ]
    },
    {
      "cell_type": "code",
      "source": [
        "for s in soup.select('table.infobox tbody tr th'):\n",
        "  if s.text.startswith('Population'):\n",
        "    print(s.parent.find_next_siblings()) # if we only use find next.. without using the parent it gives us nothing"
      ],
      "metadata": {
        "colab": {
          "base_uri": "https://localhost:8080/"
        },
        "id": "r0XPwh5HS7US",
        "outputId": "d2c04af5-6693-42f9-abc7-f4f13db2dcb9"
      },
      "execution_count": null,
      "outputs": [
        {
          "output_type": "stream",
          "name": "stdout",
          "text": [
            "[<tr class=\"mergedrow\"><th class=\"infobox-label\" scope=\"row\"> • City/State</th><td class=\"infobox-data\">3,850,809</td></tr>, <tr class=\"mergedrow\"><th class=\"infobox-label\" scope=\"row\"> • Density</th><td class=\"infobox-data\">4,126/km<sup>2</sup> (10,690/sq mi)</td></tr>, <tr class=\"mergedrow\"><th class=\"infobox-label\" scope=\"row\"> • <a href=\"/wiki/Urban_area\" title=\"Urban area\">Urban</a><div class=\"ib-settlement-fn\"><sup class=\"reference\" id=\"cite_ref-citypopulation_urban_3-0\"><a href=\"#cite_note-citypopulation_urban-3\">[3]</a></sup></div></th><td class=\"infobox-data\">4,890,363</td></tr>, <tr class=\"mergedrow\"><th class=\"infobox-label\" scope=\"row\"> • Urban density</th><td class=\"infobox-data\">1,195/km<sup>2</sup> (3,100/sq mi)</td></tr>, <tr class=\"mergedrow\"><th class=\"infobox-label\" scope=\"row\"> • <a href=\"/wiki/Metropolitan_area\" title=\"Metropolitan area\">Metro</a><div class=\"ib-settlement-fn\"><sup class=\"reference\" id=\"cite_ref-4\"><a href=\"#cite_note-4\">[4]</a></sup></div></th><td class=\"infobox-data\">6,144,600</td></tr>, <tr class=\"mergedrow\"><th class=\"infobox-label\" scope=\"row\"> • Metro density</th><td class=\"infobox-data\">201/km<sup>2</sup> (520/sq mi)</td></tr>, <tr class=\"mergedtoprow\"><th class=\"infobox-label\" scope=\"row\"><a href=\"/wiki/Demonym\" title=\"Demonym\">Demonyms</a></th><td class=\"infobox-data\">Berliner(s) (English)<br/>Berliner (m), Berlinerin (f) (German)</td></tr>, <tr class=\"mergedtoprow\"><th class=\"infobox-label\" scope=\"row\"><a href=\"/wiki/Time_zone\" title=\"Time zone\">Time zone</a></th><td class=\"infobox-data\"><a href=\"/wiki/UTC%2B01:00\" title=\"UTC+01:00\">UTC+01:00</a> (<a href=\"/wiki/Central_European_Time\" title=\"Central European Time\">CET</a>)</td></tr>, <tr class=\"mergedrow\"><th class=\"infobox-label\" scope=\"row\"><span class=\"nowrap\"> • Summer (<a href=\"/wiki/Daylight_saving_time\" title=\"Daylight saving time\">DST</a>)</span></th><td class=\"infobox-data\"><a href=\"/wiki/UTC%2B02:00\" title=\"UTC+02:00\">UTC+02:00</a> (<a href=\"/wiki/Central_European_Summer_Time\" title=\"Central European Summer Time\">CEST</a>)</td></tr>, <tr class=\"mergedtoprow\"><th class=\"infobox-label\" scope=\"row\"><a href=\"/wiki/Telephone_numbering_plan\" title=\"Telephone numbering plan\">Area codes</a></th><td class=\"infobox-data\"><a href=\"/wiki/List_of_dialling_codes_in_Germany#030_–_Berlin\" title=\"List of dialling codes in Germany\">030</a></td></tr>, <tr class=\"mergedrow\"><th class=\"infobox-label\" scope=\"row\"><a href=\"/wiki/Geocode\" title=\"Geocode\">Geocode</a></th><td class=\"infobox-data nickname\"><a href=\"/wiki/Nomenclature_of_Territorial_Units_for_Statistics\" title=\"Nomenclature of Territorial Units for Statistics\">NUTS Region</a>: DE3</td></tr>, <tr class=\"mergedrow\"><th class=\"infobox-label\" scope=\"row\"><a href=\"/wiki/ISO_3166\" title=\"ISO 3166\">ISO 3166 code</a></th><td class=\"infobox-data nickname\">DE-BE</td></tr>, <tr class=\"mergedrow\"><th class=\"infobox-label\" scope=\"row\"><a href=\"/wiki/Vehicle_registration_plate\" title=\"Vehicle registration plate\">Vehicle registration</a></th><td class=\"infobox-data\">B<sup class=\"reference\" id=\"cite_ref-5\"><a href=\"#cite_note-5\">[note 1]</a></sup></td></tr>, <tr class=\"mergedtoprow\"><th class=\"infobox-label\" scope=\"row\"><a href=\"/wiki/Gross_regional_product\" title=\"Gross regional product\">GRP (nominal)</a></th><td class=\"infobox-data\">€179.4 billion (2022)<sup class=\"reference\" id=\"cite_ref-6\"><a href=\"#cite_note-6\">[5]</a></sup></td></tr>, <tr class=\"mergedrow\"><th class=\"infobox-label\" scope=\"row\">GRP per capita</th><td class=\"infobox-data\">€46,588 (2022)</td></tr>, <tr class=\"mergedtoprow\"><th class=\"infobox-label\" scope=\"row\"><a class=\"mw-redirect\" href=\"/wiki/GeoTLD\" title=\"GeoTLD\">GeoTLD</a></th><td class=\"infobox-data\"><a href=\"/wiki/.berlin\" title=\".berlin\">.berlin</a></td></tr>, <tr class=\"mergedrow\"><th class=\"infobox-label\" scope=\"row\"><a href=\"/wiki/Human_Development_Index\" title=\"Human Development Index\">HDI</a> (2019)</th><td class=\"infobox-data\">0.964<sup class=\"reference\" id=\"cite_ref-GlobalDataLab_7-0\"><a href=\"#cite_note-GlobalDataLab-7\">[6]</a></sup><br/><span style=\"color:green\">very high</span> · <a href=\"/wiki/List_of_German_states_by_Human_Development_Index\" title=\"List of German states by Human Development Index\">2nd of 16</a></td></tr>, <tr class=\"mergedtoprow\"><th class=\"infobox-label\" scope=\"row\">Website</th><td class=\"infobox-data\"><span class=\"url\"><a class=\"external text\" href=\"http://www.berlin.de/en/\" rel=\"nofollow\">berlin.de</a></span></td></tr>]\n",
            "[<tr>\n",
            "<td><span class=\"flagicon\"><span class=\"mw-image-border\" typeof=\"mw:File\"><span><img alt=\"\" class=\"mw-file-element\" data-file-height=\"600\" data-file-width=\"1000\" decoding=\"async\" height=\"14\" src=\"//upload.wikimedia.org/wikipedia/en/thumb/b/ba/Flag_of_Germany.svg/23px-Flag_of_Germany.svg.png\" srcset=\"//upload.wikimedia.org/wikipedia/en/thumb/b/ba/Flag_of_Germany.svg/35px-Flag_of_Germany.svg.png 1.5x, //upload.wikimedia.org/wikipedia/en/thumb/b/ba/Flag_of_Germany.svg/46px-Flag_of_Germany.svg.png 2x\" width=\"23\"/></span></span> </span><a href=\"/wiki/Germany\" title=\"Germany\">Germany</a></td>\n",
            "<td>2,958,786\n",
            "</td></tr>, <tr>\n",
            "<td><span class=\"flagicon\"><span class=\"mw-image-border\" typeof=\"mw:File\"><span><img alt=\"\" class=\"mw-file-element\" data-file-height=\"800\" data-file-width=\"1200\" decoding=\"async\" height=\"15\" src=\"//upload.wikimedia.org/wikipedia/commons/thumb/b/b4/Flag_of_Turkey.svg/23px-Flag_of_Turkey.svg.png\" srcset=\"//upload.wikimedia.org/wikipedia/commons/thumb/b/b4/Flag_of_Turkey.svg/35px-Flag_of_Turkey.svg.png 1.5x, //upload.wikimedia.org/wikipedia/commons/thumb/b/b4/Flag_of_Turkey.svg/45px-Flag_of_Turkey.svg.png 2x\" width=\"23\"/></span></span> </span><a href=\"/wiki/Turkey\" title=\"Turkey\">Turkey</a></td>\n",
            "<td>99,421\n",
            "</td></tr>, <tr>\n",
            "<td><span class=\"flagicon\"><span class=\"mw-image-border\" typeof=\"mw:File\"><span><img alt=\"\" class=\"mw-file-element\" data-file-height=\"800\" data-file-width=\"1280\" decoding=\"async\" height=\"14\" src=\"//upload.wikimedia.org/wikipedia/en/thumb/1/12/Flag_of_Poland.svg/23px-Flag_of_Poland.svg.png\" srcset=\"//upload.wikimedia.org/wikipedia/en/thumb/1/12/Flag_of_Poland.svg/35px-Flag_of_Poland.svg.png 1.5x, //upload.wikimedia.org/wikipedia/en/thumb/1/12/Flag_of_Poland.svg/46px-Flag_of_Poland.svg.png 2x\" width=\"23\"/></span></span> </span><a href=\"/wiki/Poland\" title=\"Poland\">Poland</a></td>\n",
            "<td>53,664\n",
            "</td></tr>, <tr>\n",
            "<td><span class=\"flagicon\"><span class=\"mw-image-border\" typeof=\"mw:File\"><span><img alt=\"\" class=\"mw-file-element\" data-file-height=\"800\" data-file-width=\"1200\" decoding=\"async\" height=\"15\" src=\"//upload.wikimedia.org/wikipedia/commons/thumb/4/49/Flag_of_Ukraine.svg/23px-Flag_of_Ukraine.svg.png\" srcset=\"//upload.wikimedia.org/wikipedia/commons/thumb/4/49/Flag_of_Ukraine.svg/35px-Flag_of_Ukraine.svg.png 1.5x, //upload.wikimedia.org/wikipedia/commons/thumb/4/49/Flag_of_Ukraine.svg/45px-Flag_of_Ukraine.svg.png 2x\" width=\"23\"/></span></span> </span><a href=\"/wiki/Ukraine\" title=\"Ukraine\">Ukraine</a></td>\n",
            "<td>49,280\n",
            "</td></tr>, <tr>\n",
            "<td><span class=\"flagicon\"><span class=\"mw-image-border\" typeof=\"mw:File\"><span><img alt=\"\" class=\"mw-file-element\" data-file-height=\"600\" data-file-width=\"900\" decoding=\"async\" height=\"15\" src=\"//upload.wikimedia.org/wikipedia/commons/thumb/5/53/Flag_of_Syria.svg/23px-Flag_of_Syria.svg.png\" srcset=\"//upload.wikimedia.org/wikipedia/commons/thumb/5/53/Flag_of_Syria.svg/35px-Flag_of_Syria.svg.png 1.5x, //upload.wikimedia.org/wikipedia/commons/thumb/5/53/Flag_of_Syria.svg/45px-Flag_of_Syria.svg.png 2x\" width=\"23\"/></span></span> </span><a href=\"/wiki/Syria\" title=\"Syria\">Syria</a></td>\n",
            "<td>44,324\n",
            "</td></tr>, <tr>\n",
            "<td><span class=\"flagicon\"><span class=\"mw-image-border\" typeof=\"mw:File\"><span><img alt=\"\" class=\"mw-file-element\" data-file-height=\"1000\" data-file-width=\"1500\" decoding=\"async\" height=\"15\" src=\"//upload.wikimedia.org/wikipedia/en/thumb/0/03/Flag_of_Italy.svg/23px-Flag_of_Italy.svg.png\" srcset=\"//upload.wikimedia.org/wikipedia/en/thumb/0/03/Flag_of_Italy.svg/35px-Flag_of_Italy.svg.png 1.5x, //upload.wikimedia.org/wikipedia/en/thumb/0/03/Flag_of_Italy.svg/45px-Flag_of_Italy.svg.png 2x\" width=\"23\"/></span></span> </span><a href=\"/wiki/Italy\" title=\"Italy\">Italy</a></td>\n",
            "<td>32,362\n",
            "</td></tr>, <tr>\n",
            "<td><span class=\"flagicon\"><span class=\"mw-image-border\" typeof=\"mw:File\"><span><img alt=\"\" class=\"mw-file-element\" data-file-height=\"600\" data-file-width=\"1000\" decoding=\"async\" height=\"14\" src=\"//upload.wikimedia.org/wikipedia/commons/thumb/9/9a/Flag_of_Bulgaria.svg/23px-Flag_of_Bulgaria.svg.png\" srcset=\"//upload.wikimedia.org/wikipedia/commons/thumb/9/9a/Flag_of_Bulgaria.svg/35px-Flag_of_Bulgaria.svg.png 1.5x, //upload.wikimedia.org/wikipedia/commons/thumb/9/9a/Flag_of_Bulgaria.svg/46px-Flag_of_Bulgaria.svg.png 2x\" width=\"23\"/></span></span> </span><a href=\"/wiki/Bulgaria\" title=\"Bulgaria\">Bulgaria</a></td>\n",
            "<td>32,170\n",
            "</td></tr>, <tr>\n",
            "<td><span class=\"flagicon\"><span class=\"mw-image-border\" typeof=\"mw:File\"><span><img alt=\"\" class=\"mw-file-element\" data-file-height=\"600\" data-file-width=\"900\" decoding=\"async\" height=\"15\" src=\"//upload.wikimedia.org/wikipedia/en/thumb/f/f3/Flag_of_Russia.svg/23px-Flag_of_Russia.svg.png\" srcset=\"//upload.wikimedia.org/wikipedia/en/thumb/f/f3/Flag_of_Russia.svg/35px-Flag_of_Russia.svg.png 1.5x, //upload.wikimedia.org/wikipedia/en/thumb/f/f3/Flag_of_Russia.svg/45px-Flag_of_Russia.svg.png 2x\" width=\"23\"/></span></span> </span><a href=\"/wiki/Russia\" title=\"Russia\">Russian Federation</a></td>\n",
            "<td>30,590\n",
            "</td></tr>, <tr>\n",
            "<td><span class=\"flagicon\"><span class=\"mw-image-border\" typeof=\"mw:File\"><span><img alt=\"\" class=\"mw-file-element\" data-file-height=\"400\" data-file-width=\"600\" decoding=\"async\" height=\"15\" src=\"//upload.wikimedia.org/wikipedia/commons/thumb/7/73/Flag_of_Romania.svg/23px-Flag_of_Romania.svg.png\" srcset=\"//upload.wikimedia.org/wikipedia/commons/thumb/7/73/Flag_of_Romania.svg/35px-Flag_of_Romania.svg.png 1.5x, //upload.wikimedia.org/wikipedia/commons/thumb/7/73/Flag_of_Romania.svg/45px-Flag_of_Romania.svg.png 2x\" width=\"23\"/></span></span> </span><a href=\"/wiki/Romania\" title=\"Romania\">Romania</a></td>\n",
            "<td>27,128\n",
            "</td></tr>, <tr>\n",
            "<td><span class=\"flagicon\"><span class=\"mw-image-border\" typeof=\"mw:File\"><span><img alt=\"\" class=\"mw-file-element\" data-file-height=\"600\" data-file-width=\"900\" decoding=\"async\" height=\"15\" src=\"//upload.wikimedia.org/wikipedia/en/thumb/4/41/Flag_of_India.svg/23px-Flag_of_India.svg.png\" srcset=\"//upload.wikimedia.org/wikipedia/en/thumb/4/41/Flag_of_India.svg/35px-Flag_of_India.svg.png 1.5x, //upload.wikimedia.org/wikipedia/en/thumb/4/41/Flag_of_India.svg/45px-Flag_of_India.svg.png 2x\" width=\"23\"/></span></span> </span><a href=\"/wiki/India\" title=\"India\">India</a></td>\n",
            "<td>23,771\n",
            "</td></tr>, <tr>\n",
            "<td><span class=\"flagicon\"><span class=\"mw-image-border\" typeof=\"mw:File\"><span><img alt=\"\" class=\"mw-file-element\" data-file-height=\"600\" data-file-width=\"900\" decoding=\"async\" height=\"15\" src=\"//upload.wikimedia.org/wikipedia/commons/thumb/2/21/Flag_of_Vietnam.svg/23px-Flag_of_Vietnam.svg.png\" srcset=\"//upload.wikimedia.org/wikipedia/commons/thumb/2/21/Flag_of_Vietnam.svg/35px-Flag_of_Vietnam.svg.png 1.5x, //upload.wikimedia.org/wikipedia/commons/thumb/2/21/Flag_of_Vietnam.svg/45px-Flag_of_Vietnam.svg.png 2x\" width=\"23\"/></span></span> </span><a href=\"/wiki/Vietnam\" title=\"Vietnam\">Vietnam</a></td>\n",
            "<td>22,858\n",
            "</td></tr>, <tr>\n",
            "<td><span class=\"flagicon\"><span class=\"mw-image-border\" typeof=\"mw:File\"><span><img alt=\"\" class=\"mw-file-element\" data-file-height=\"650\" data-file-width=\"1235\" decoding=\"async\" height=\"12\" src=\"//upload.wikimedia.org/wikipedia/en/thumb/a/a4/Flag_of_the_United_States.svg/23px-Flag_of_the_United_States.svg.png\" srcset=\"//upload.wikimedia.org/wikipedia/en/thumb/a/a4/Flag_of_the_United_States.svg/35px-Flag_of_the_United_States.svg.png 1.5x, //upload.wikimedia.org/wikipedia/en/thumb/a/a4/Flag_of_the_United_States.svg/46px-Flag_of_the_United_States.svg.png 2x\" width=\"23\"/></span></span> </span><a href=\"/wiki/United_States\" title=\"United States\">USA</a></td>\n",
            "<td>20,990\n",
            "</td></tr>, <tr>\n",
            "<td><span class=\"flagicon\"><span class=\"mw-image-border\" typeof=\"mw:File\"><span><img alt=\"\" class=\"mw-file-element\" data-file-height=\"630\" data-file-width=\"945\" decoding=\"async\" height=\"15\" src=\"//upload.wikimedia.org/wikipedia/commons/thumb/f/ff/Flag_of_Serbia.svg/23px-Flag_of_Serbia.svg.png\" srcset=\"//upload.wikimedia.org/wikipedia/commons/thumb/f/ff/Flag_of_Serbia.svg/35px-Flag_of_Serbia.svg.png 1.5x, //upload.wikimedia.org/wikipedia/commons/thumb/f/ff/Flag_of_Serbia.svg/45px-Flag_of_Serbia.svg.png 2x\" width=\"23\"/></span></span> </span><a href=\"/wiki/Serbia\" title=\"Serbia\">Serbia</a></td>\n",
            "<td>20,567\n",
            "</td></tr>, <tr>\n",
            "<td><span class=\"flagicon\"><span class=\"mw-image-border\" typeof=\"mw:File\"><span><img alt=\"\" class=\"mw-file-element\" data-file-height=\"600\" data-file-width=\"900\" decoding=\"async\" height=\"15\" src=\"//upload.wikimedia.org/wikipedia/en/thumb/c/c3/Flag_of_France.svg/23px-Flag_of_France.svg.png\" srcset=\"//upload.wikimedia.org/wikipedia/en/thumb/c/c3/Flag_of_France.svg/35px-Flag_of_France.svg.png 1.5x, //upload.wikimedia.org/wikipedia/en/thumb/c/c3/Flag_of_France.svg/45px-Flag_of_France.svg.png 2x\" width=\"23\"/></span></span> </span><a href=\"/wiki/France\" title=\"France\">France</a></td>\n",
            "<td>19,241\n",
            "</td></tr>, <tr>\n",
            "<td><span class=\"flagicon\"><span class=\"mw-image-border\" typeof=\"mw:File\"><span><img alt=\"\" class=\"mw-file-element\" data-file-height=\"500\" data-file-width=\"1000\" decoding=\"async\" height=\"12\" src=\"//upload.wikimedia.org/wikipedia/commons/thumb/5/5c/Flag_of_the_Taliban.svg/23px-Flag_of_the_Taliban.svg.png\" srcset=\"//upload.wikimedia.org/wikipedia/commons/thumb/5/5c/Flag_of_the_Taliban.svg/35px-Flag_of_the_Taliban.svg.png 1.5x, //upload.wikimedia.org/wikipedia/commons/thumb/5/5c/Flag_of_the_Taliban.svg/46px-Flag_of_the_Taliban.svg.png 2x\" width=\"23\"/></span></span> </span><a href=\"/wiki/Afghanistan\" title=\"Afghanistan\">Afghanistan</a></td>\n",
            "<td>17,481\n",
            "</td></tr>]\n"
          ]
        }
      ]
    },
    {
      "cell_type": "code",
      "source": [
        "# to navigate through\n",
        "for s in soup.select('table.infobox tbody tr th'):\n",
        "  if s.text.startswith('Population'):\n",
        "    for sibling in s.parent.find_next_siblings():\n",
        "      if 'Metro' in sibling.text: # we can check if the text is what we want\n",
        "        print(sibling.text)\n"
      ],
      "metadata": {
        "colab": {
          "base_uri": "https://localhost:8080/"
        },
        "id": "FYTaO8N8Tsp9",
        "outputId": "fe9b04bc-1179-4e62-fce7-16362a5f567a"
      },
      "execution_count": null,
      "outputs": [
        {
          "output_type": "stream",
          "name": "stdout",
          "text": [
            " • Metro[4]6,144,600\n",
            " • Metro density201/km2 (520/sq mi)\n"
          ]
        }
      ]
    },
    {
      "cell_type": "code",
      "source": [
        "# we have to navigate one level deeper\n",
        "for s in soup.select('table.infobox tbody tr th'):\n",
        "  if s.text.startswith('Population'):\n",
        "    for sibling in s.parent.find_next_siblings():\n",
        "      if 'Metro' in sibling.text:\n",
        "        print(sibling.select('td'))         # **** Not what we were expecting ****"
      ],
      "metadata": {
        "colab": {
          "base_uri": "https://localhost:8080/"
        },
        "id": "u792XUANUYcP",
        "outputId": "b83909e4-24f7-4ddf-893f-e0592abec11b"
      },
      "execution_count": null,
      "outputs": [
        {
          "output_type": "stream",
          "name": "stdout",
          "text": [
            "[<td class=\"infobox-data\">6,144,600</td>]\n",
            "[<td class=\"infobox-data\">201/km<sup>2</sup> (520/sq mi)</td>]\n"
          ]
        }
      ]
    },
    {
      "cell_type": "code",
      "source": [
        "for s in soup.select('table.infobox tbody tr th'):\n",
        "  if s.text.startswith('Population'):\n",
        "    for sibling in s.parent.find_next_siblings():\n",
        "      if 'Metro' in sibling.text:\n",
        "        print(sibling.select('td')[0].text) # we use [0] because we only want the first value, and .text to print it"
      ],
      "metadata": {
        "colab": {
          "base_uri": "https://localhost:8080/"
        },
        "id": "5p2ux_V2Up-Y",
        "outputId": "de5d35c1-b2a6-4265-e280-f0eae210a919"
      },
      "execution_count": null,
      "outputs": [
        {
          "output_type": "stream",
          "name": "stdout",
          "text": [
            "6,144,600\n",
            "201/km2 (520/sq mi)\n"
          ]
        }
      ]
    }
  ]
}
